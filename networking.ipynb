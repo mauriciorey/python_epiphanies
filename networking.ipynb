{
 "cells": [
  {
   "cell_type": "code",
   "execution_count": null,
   "metadata": {
    "collapsed": false
   },
   "outputs": [],
   "source": [
    "import socket\n",
    "\n",
    "print(socket.gethostbyaddr(\"8.8.8.8\"))\n",
    "print(socket.gethostbyname(\"www.google.com\"))"
   ]
  },
  {
   "cell_type": "code",
   "execution_count": null,
   "metadata": {
    "collapsed": false
   },
   "outputs": [],
   "source": [
    "s = socket.socket()\n",
    "host = socket.gethostname()\n",
    "port = 12345\n",
    "s.bind((host, port))\n",
    "\n",
    "s.listen(5)\n",
    "while True:\n",
    "    c, addr = s.accept()\n",
    "    print('Got connection from: ', addr)\n",
    "    c.send('Thank you for connecting')\n",
    "    c.close()"
   ]
  },
  {
   "cell_type": "code",
   "execution_count": null,
   "metadata": {
    "collapsed": false
   },
   "outputs": [],
   "source": [
    "import http.client\n",
    "\n",
    "h = http.client.HTTPConnection('www.infiniteskills.com')\n",
    "h.request(\"GET\", \"/\")\n",
    "data = h.getresponse()\n",
    "print(data.code)\n",
    "print(data.headers)\n",
    "text = data.readlines()\n",
    "for t in text:\n",
    "    print(t.decode('utf-8'))"
   ]
  }
 ],
 "metadata": {
  "kernelspec": {
   "display_name": "Python 3",
   "language": "python",
   "name": "python3"
  },
  "language_info": {
   "codemirror_mode": {
    "name": "ipython",
    "version": 3
   },
   "file_extension": ".py",
   "mimetype": "text/x-python",
   "name": "python",
   "nbconvert_exporter": "python",
   "pygments_lexer": "ipython3",
   "version": "3.5.1"
  }
 },
 "nbformat": 4,
 "nbformat_minor": 0
}

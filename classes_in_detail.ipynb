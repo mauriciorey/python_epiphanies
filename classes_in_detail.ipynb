{
 "cells": [
  {
   "cell_type": "code",
   "execution_count": 1,
   "metadata": {
    "collapsed": false
   },
   "outputs": [
    {
     "name": "stdout",
     "output_type": "stream",
     "text": [
      "mauricio is 35\n",
      "andrea is 36\n",
      "daniel is 1\n"
     ]
    }
   ],
   "source": [
    "# zip print with lists, counter items should be the same number of elements as the other lists\n",
    "\n",
    "\n",
    "counter = [0,1,2]\n",
    "names = ['mauricio', 'andrea', 'daniel']\n",
    "ages = [35,36,1]\n",
    "\n",
    "for i in counter:\n",
    "    print '%s is %d' % (names[i], ages[i])"
   ]
  },
  {
   "cell_type": "code",
   "execution_count": 2,
   "metadata": {
    "collapsed": false
   },
   "outputs": [
    {
     "data": {
      "text/plain": [
       "720"
      ]
     },
     "execution_count": 2,
     "metadata": {},
     "output_type": "execute_result"
    }
   ],
   "source": [
    "# Recursion\n",
    "\n",
    "def factorial(n):\n",
    "    if n == 1:\n",
    "        return 1\n",
    "    else:\n",
    "        return n * factorial(n - 1)\n",
    "\n",
    "factorial(6)"
   ]
  },
  {
   "cell_type": "code",
   "execution_count": 12,
   "metadata": {
    "collapsed": false
   },
   "outputs": [
    {
     "name": "stdout",
     "output_type": "stream",
     "text": [
      "meeeeoww\n",
      "the animal moves forward\n",
      "crunch, crunch\n",
      "Sophie\n",
      "Sue\n",
      "\n",
      "\n",
      "woof woof\n",
      "rrrr\n",
      "the animal moves forward\n",
      "crunch, crunch\n",
      "Jake\n",
      "Paul\n",
      "\n",
      "\n"
     ]
    }
   ],
   "source": [
    "__metaclass__ = type\n",
    "\n",
    "class Animal(object):\n",
    "    \n",
    "    __name = 'No Name'\n",
    "    __owner = 'No Owner'\n",
    "    \n",
    "    def __init__(self, **kwargs):\n",
    "        self._attributes = kwargs\n",
    "        \n",
    "    def set_attributes(self, key, values):\n",
    "        self._attributes[key] = value\n",
    "        return\n",
    "    \n",
    "    def get_attributes(self, key):\n",
    "        return self._attributes.get(key, None)\n",
    "    \n",
    "    def noise(self):\n",
    "        print 'rrrr'\n",
    "        return\n",
    "    \n",
    "    def move(self):\n",
    "        print 'the animal moves forward'\n",
    "        return\n",
    "    \n",
    "    def eat(self):\n",
    "        print 'crunch, crunch'\n",
    "        return\n",
    "\n",
    "class Dog(Animal):\n",
    "    \n",
    "    def __init__(self, **kwargs):\n",
    "        super(Dog, self).__init__()\n",
    "        self._attributes = kwargs\n",
    "    \n",
    "    def noise(self):\n",
    "        print 'woof woof'\n",
    "        Animal.noise(self)\n",
    "        return\n",
    "    \n",
    "class Cat(Animal):\n",
    "    \n",
    "    def __init__(self, **kwargs):\n",
    "        super(Cat, self).__init__()\n",
    "        self._attributes = kwargs\n",
    "    \n",
    "    def noise(self):\n",
    "        print 'meeeeoww'\n",
    "        return\n",
    "    \n",
    "    def noise2(self):\n",
    "        print 'prurrr'\n",
    "        return\n",
    "\n",
    "def playWithAnimal(Animal):\n",
    "    Animal.noise()\n",
    "    Animal.move()\n",
    "    Animal.eat()\n",
    "    print Animal.get_attributes('__name')\n",
    "    print Animal.get_attributes('__owner')\n",
    "    print '\\n'\n",
    "    \n",
    "    \n",
    "def main():\n",
    "    jake = Dog(__name = 'Jake', __owner = 'Paul')\n",
    "    sophie = Cat(__name = 'Sophie', __owner = 'Sue')\n",
    "    playWithAnimal(sophie)\n",
    "    playWithAnimal(jake)\n",
    "\n",
    "if __name__ == '__main__':\n",
    "    main()"
   ]
  },
  {
   "cell_type": "code",
   "execution_count": null,
   "metadata": {
    "collapsed": true
   },
   "outputs": [],
   "source": []
  }
 ],
 "metadata": {
  "kernelspec": {
   "display_name": "Python 2",
   "language": "python",
   "name": "python2"
  },
  "language_info": {
   "codemirror_mode": {
    "name": "ipython",
    "version": 2
   },
   "file_extension": ".py",
   "mimetype": "text/x-python",
   "name": "python",
   "nbconvert_exporter": "python",
   "pygments_lexer": "ipython2",
   "version": "2.7.11"
  }
 },
 "nbformat": 4,
 "nbformat_minor": 0
}
